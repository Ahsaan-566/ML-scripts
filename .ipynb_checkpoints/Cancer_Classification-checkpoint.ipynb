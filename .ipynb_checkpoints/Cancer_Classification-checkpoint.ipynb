{
 "cells": [
  {
   "cell_type": "markdown",
   "metadata": {},
   "source": [
    "## Cancer Classification from Gene Expressions\n",
    "\n",
    "In this module, we will build a classification model to distinguish between two related classes of cancer, acute lymphoblastic leukemia (ALL) and acute myeloid leukemia (AML), using gene expression measurements. The data set is provided in the file `dataset_hw5.csv`. Each row in this file corresponds to a tumor tissue sample from a patient with one of the two forms of Leukemia. The first column contains the cancer type, with 0 indicating the ALL class and 1 indicating the AML class. Columns 2-7130 contain expression levels of 7129 genes recorded from each tissue sample. \n",
    "\n",
    "In the following parts, we will use logistic regression to build a classification model for this data set. We will also use principal components analysis (PCA) to visualize the data and to reduce its dimensions. \n",
    "\n"
   ]
  },
  {
   "cell_type": "markdown",
   "metadata": {},
   "source": [
    "## Logistic Regression and PCA"
   ]
  },
  {
   "cell_type": "code",
   "execution_count": 149,
   "metadata": {},
   "outputs": [
    {
     "data": {
      "text/html": [
       "<style type=\"text/css\">\n",
       "table.dataframe td, table.dataframe th {\n",
       "    border: 1px  black solid !important;\n",
       "  color: black !important;\n",
       "}"
      ],
      "text/plain": [
       "<IPython.core.display.HTML object>"
      ]
     },
     "metadata": {},
     "output_type": "display_data"
    }
   ],
   "source": [
    "## defining border of dataframe tables\n",
    "%%HTML\n",
    "<style type=\"text/css\">\n",
    "table.dataframe td, table.dataframe th {\n",
    "    border: 1px  black solid !important;\n",
    "  color: black !important;\n",
    "}"
   ]
  },
  {
   "cell_type": "markdown",
   "metadata": {},
   "source": [
    "Import libraries:"
   ]
  },
  {
   "cell_type": "code",
   "execution_count": 150,
   "metadata": {},
   "outputs": [],
   "source": [
    "import numpy as np\n",
    "import pandas as pd\n",
    "import matplotlib\n",
    "import matplotlib.pyplot as plt\n",
    "import seaborn as sns\n",
    "import statsmodels.api as sm\n",
    "from statsmodels.api import OLS\n",
    "from sklearn.decomposition import PCA\n",
    "from sklearn.linear_model import LinearRegression\n",
    "from sklearn.linear_model import LogisticRegression\n",
    "from sklearn.linear_model import LogisticRegressionCV\n",
    "from sklearn.ensemble import BaggingRegressor\n",
    "from sklearn.utils import resample\n",
    "from sklearn.model_selection import cross_val_score\n",
    "from sklearn.metrics import accuracy_score\n",
    "%matplotlib inline"
   ]
  },
  {
   "cell_type": "markdown",
   "metadata": {},
   "source": [
    "## Part (a): Data Exploration\n",
    "\n",
    "Q-1: First step is to  split  the observations into an approximate 50-50 train-test split.  Below is some code to do this for you (we want to make sure everyone has the same splits).\n"
   ]
  },
  {
   "cell_type": "code",
   "execution_count": 151,
   "metadata": {},
   "outputs": [],
   "source": [
    "np.random.seed(9001)\n",
    "df = pd.read_csv('dataset_hw5.csv')\n",
    "msk = np.random.rand(len(df)) < 0.5\n",
    "data_train = df[msk]\n",
    "data_test = df[~msk]"
   ]
  },
  {
   "cell_type": "markdown",
   "metadata": {},
   "source": [
    "Q-2: Take a peak at your training set: you should notice the severe differences in the measurements from one gene to the next (some are negative, some hover around zero, and some are well into the thousands). To account for these differences in scale and variability, normalize each predictor to vary between 0 and 1."
   ]
  },
  {
   "cell_type": "code",
   "execution_count": 152,
   "metadata": {},
   "outputs": [
    {
     "data": {
      "text/html": [
       "<div>\n",
       "<style scoped>\n",
       "    .dataframe tbody tr th:only-of-type {\n",
       "        vertical-align: middle;\n",
       "    }\n",
       "\n",
       "    .dataframe tbody tr th {\n",
       "        vertical-align: top;\n",
       "    }\n",
       "\n",
       "    .dataframe thead th {\n",
       "        text-align: right;\n",
       "    }\n",
       "</style>\n",
       "<table border=\"1\" class=\"dataframe\">\n",
       "  <thead>\n",
       "    <tr style=\"text-align: right;\">\n",
       "      <th></th>\n",
       "      <th>Cancer_type</th>\n",
       "      <th>AFFX-BioB-5_at</th>\n",
       "      <th>AFFX-BioB-M_at</th>\n",
       "      <th>AFFX-BioB-3_at</th>\n",
       "      <th>AFFX-BioC-5_at</th>\n",
       "      <th>AFFX-BioC-3_at</th>\n",
       "      <th>AFFX-BioDn-5_at</th>\n",
       "      <th>AFFX-BioDn-3_at</th>\n",
       "      <th>AFFX-CreX-5_at</th>\n",
       "      <th>AFFX-CreX-3_at</th>\n",
       "      <th>...</th>\n",
       "      <th>U48730_at</th>\n",
       "      <th>U58516_at</th>\n",
       "      <th>U73738_at</th>\n",
       "      <th>X06956_at</th>\n",
       "      <th>X16699_at</th>\n",
       "      <th>X83863_at</th>\n",
       "      <th>Z17240_at</th>\n",
       "      <th>L49218_f_at</th>\n",
       "      <th>M71243_f_at</th>\n",
       "      <th>Z78285_f_at</th>\n",
       "    </tr>\n",
       "  </thead>\n",
       "  <tbody>\n",
       "    <tr>\n",
       "      <th>0</th>\n",
       "      <td>0</td>\n",
       "      <td>-214</td>\n",
       "      <td>-153</td>\n",
       "      <td>-58</td>\n",
       "      <td>88</td>\n",
       "      <td>-295</td>\n",
       "      <td>-558</td>\n",
       "      <td>199</td>\n",
       "      <td>-176</td>\n",
       "      <td>252</td>\n",
       "      <td>...</td>\n",
       "      <td>185</td>\n",
       "      <td>511</td>\n",
       "      <td>-125</td>\n",
       "      <td>389</td>\n",
       "      <td>-37</td>\n",
       "      <td>793</td>\n",
       "      <td>329</td>\n",
       "      <td>36</td>\n",
       "      <td>191</td>\n",
       "      <td>-37</td>\n",
       "    </tr>\n",
       "    <tr>\n",
       "      <th>5</th>\n",
       "      <td>0</td>\n",
       "      <td>-67</td>\n",
       "      <td>-93</td>\n",
       "      <td>84</td>\n",
       "      <td>25</td>\n",
       "      <td>-179</td>\n",
       "      <td>-323</td>\n",
       "      <td>-135</td>\n",
       "      <td>-127</td>\n",
       "      <td>-2</td>\n",
       "      <td>...</td>\n",
       "      <td>48</td>\n",
       "      <td>224</td>\n",
       "      <td>60</td>\n",
       "      <td>194</td>\n",
       "      <td>-10</td>\n",
       "      <td>291</td>\n",
       "      <td>41</td>\n",
       "      <td>8</td>\n",
       "      <td>-2</td>\n",
       "      <td>-80</td>\n",
       "    </tr>\n",
       "    <tr>\n",
       "      <th>9</th>\n",
       "      <td>0</td>\n",
       "      <td>-476</td>\n",
       "      <td>-213</td>\n",
       "      <td>-18</td>\n",
       "      <td>301</td>\n",
       "      <td>-403</td>\n",
       "      <td>-394</td>\n",
       "      <td>-42</td>\n",
       "      <td>-144</td>\n",
       "      <td>98</td>\n",
       "      <td>...</td>\n",
       "      <td>241</td>\n",
       "      <td>1214</td>\n",
       "      <td>127</td>\n",
       "      <td>255</td>\n",
       "      <td>50</td>\n",
       "      <td>1701</td>\n",
       "      <td>1108</td>\n",
       "      <td>61</td>\n",
       "      <td>525</td>\n",
       "      <td>-83</td>\n",
       "    </tr>\n",
       "    <tr>\n",
       "      <th>12</th>\n",
       "      <td>0</td>\n",
       "      <td>17</td>\n",
       "      <td>-229</td>\n",
       "      <td>79</td>\n",
       "      <td>218</td>\n",
       "      <td>-262</td>\n",
       "      <td>-404</td>\n",
       "      <td>325</td>\n",
       "      <td>-201</td>\n",
       "      <td>6</td>\n",
       "      <td>...</td>\n",
       "      <td>225</td>\n",
       "      <td>1020</td>\n",
       "      <td>-109</td>\n",
       "      <td>209</td>\n",
       "      <td>-51</td>\n",
       "      <td>1434</td>\n",
       "      <td>255</td>\n",
       "      <td>53</td>\n",
       "      <td>545</td>\n",
       "      <td>-16</td>\n",
       "    </tr>\n",
       "    <tr>\n",
       "      <th>13</th>\n",
       "      <td>0</td>\n",
       "      <td>-144</td>\n",
       "      <td>-199</td>\n",
       "      <td>-157</td>\n",
       "      <td>132</td>\n",
       "      <td>-151</td>\n",
       "      <td>-347</td>\n",
       "      <td>-118</td>\n",
       "      <td>-24</td>\n",
       "      <td>126</td>\n",
       "      <td>...</td>\n",
       "      <td>103</td>\n",
       "      <td>595</td>\n",
       "      <td>-12</td>\n",
       "      <td>36</td>\n",
       "      <td>26</td>\n",
       "      <td>208</td>\n",
       "      <td>113</td>\n",
       "      <td>-8</td>\n",
       "      <td>22</td>\n",
       "      <td>-22</td>\n",
       "    </tr>\n",
       "  </tbody>\n",
       "</table>\n",
       "<p>5 rows × 7130 columns</p>\n",
       "</div>"
      ],
      "text/plain": [
       "    Cancer_type  AFFX-BioB-5_at  AFFX-BioB-M_at  AFFX-BioB-3_at  \\\n",
       "0             0            -214            -153             -58   \n",
       "5             0             -67             -93              84   \n",
       "9             0            -476            -213             -18   \n",
       "12            0              17            -229              79   \n",
       "13            0            -144            -199            -157   \n",
       "\n",
       "    AFFX-BioC-5_at  AFFX-BioC-3_at  AFFX-BioDn-5_at  AFFX-BioDn-3_at  \\\n",
       "0               88            -295             -558              199   \n",
       "5               25            -179             -323             -135   \n",
       "9              301            -403             -394              -42   \n",
       "12             218            -262             -404              325   \n",
       "13             132            -151             -347             -118   \n",
       "\n",
       "    AFFX-CreX-5_at  AFFX-CreX-3_at     ...       U48730_at  U58516_at  \\\n",
       "0             -176             252     ...             185        511   \n",
       "5             -127              -2     ...              48        224   \n",
       "9             -144              98     ...             241       1214   \n",
       "12            -201               6     ...             225       1020   \n",
       "13             -24             126     ...             103        595   \n",
       "\n",
       "    U73738_at  X06956_at  X16699_at  X83863_at  Z17240_at  L49218_f_at  \\\n",
       "0        -125        389        -37        793        329           36   \n",
       "5          60        194        -10        291         41            8   \n",
       "9         127        255         50       1701       1108           61   \n",
       "12       -109        209        -51       1434        255           53   \n",
       "13        -12         36         26        208        113           -8   \n",
       "\n",
       "    M71243_f_at  Z78285_f_at  \n",
       "0           191          -37  \n",
       "5            -2          -80  \n",
       "9           525          -83  \n",
       "12          545          -16  \n",
       "13           22          -22  \n",
       "\n",
       "[5 rows x 7130 columns]"
      ]
     },
     "execution_count": 152,
     "metadata": {},
     "output_type": "execute_result"
    }
   ],
   "source": [
    "data_train.head()"
   ]
  },
  {
   "cell_type": "code",
   "execution_count": 153,
   "metadata": {},
   "outputs": [
    {
     "data": {
      "text/html": [
       "<div>\n",
       "<style scoped>\n",
       "    .dataframe tbody tr th:only-of-type {\n",
       "        vertical-align: middle;\n",
       "    }\n",
       "\n",
       "    .dataframe tbody tr th {\n",
       "        vertical-align: top;\n",
       "    }\n",
       "\n",
       "    .dataframe thead th {\n",
       "        text-align: right;\n",
       "    }\n",
       "</style>\n",
       "<table border=\"1\" class=\"dataframe\">\n",
       "  <thead>\n",
       "    <tr style=\"text-align: right;\">\n",
       "      <th></th>\n",
       "      <th>Cancer_type</th>\n",
       "      <th>AFFX-BioB-5_at</th>\n",
       "      <th>AFFX-BioB-M_at</th>\n",
       "      <th>AFFX-BioB-3_at</th>\n",
       "      <th>AFFX-BioC-5_at</th>\n",
       "      <th>AFFX-BioC-3_at</th>\n",
       "      <th>AFFX-BioDn-5_at</th>\n",
       "      <th>AFFX-BioDn-3_at</th>\n",
       "      <th>AFFX-CreX-5_at</th>\n",
       "      <th>AFFX-CreX-3_at</th>\n",
       "      <th>...</th>\n",
       "      <th>U48730_at</th>\n",
       "      <th>U58516_at</th>\n",
       "      <th>U73738_at</th>\n",
       "      <th>X06956_at</th>\n",
       "      <th>X16699_at</th>\n",
       "      <th>X83863_at</th>\n",
       "      <th>Z17240_at</th>\n",
       "      <th>L49218_f_at</th>\n",
       "      <th>M71243_f_at</th>\n",
       "      <th>Z78285_f_at</th>\n",
       "    </tr>\n",
       "  </thead>\n",
       "  <tbody>\n",
       "    <tr>\n",
       "      <th>0</th>\n",
       "      <td>0.0</td>\n",
       "      <td>0.466192</td>\n",
       "      <td>0.596552</td>\n",
       "      <td>0.487535</td>\n",
       "      <td>0.318182</td>\n",
       "      <td>0.369800</td>\n",
       "      <td>0.366279</td>\n",
       "      <td>0.644599</td>\n",
       "      <td>0.644860</td>\n",
       "      <td>0.928074</td>\n",
       "      <td>...</td>\n",
       "      <td>0.488525</td>\n",
       "      <td>0.307918</td>\n",
       "      <td>0.398126</td>\n",
       "      <td>0.363988</td>\n",
       "      <td>0.677778</td>\n",
       "      <td>0.385555</td>\n",
       "      <td>0.322609</td>\n",
       "      <td>0.843750</td>\n",
       "      <td>0.088995</td>\n",
       "      <td>0.570896</td>\n",
       "    </tr>\n",
       "    <tr>\n",
       "      <th>5</th>\n",
       "      <td>0.0</td>\n",
       "      <td>0.727758</td>\n",
       "      <td>0.803448</td>\n",
       "      <td>0.684211</td>\n",
       "      <td>0.139205</td>\n",
       "      <td>0.548536</td>\n",
       "      <td>0.707849</td>\n",
       "      <td>0.411847</td>\n",
       "      <td>0.759346</td>\n",
       "      <td>0.338747</td>\n",
       "      <td>...</td>\n",
       "      <td>0.039344</td>\n",
       "      <td>0.097507</td>\n",
       "      <td>0.831382</td>\n",
       "      <td>0.175218</td>\n",
       "      <td>0.777778</td>\n",
       "      <td>0.118959</td>\n",
       "      <td>0.072174</td>\n",
       "      <td>0.746528</td>\n",
       "      <td>0.012316</td>\n",
       "      <td>0.410448</td>\n",
       "    </tr>\n",
       "    <tr>\n",
       "      <th>9</th>\n",
       "      <td>0.0</td>\n",
       "      <td>0.000000</td>\n",
       "      <td>0.389655</td>\n",
       "      <td>0.542936</td>\n",
       "      <td>0.923295</td>\n",
       "      <td>0.203390</td>\n",
       "      <td>0.604651</td>\n",
       "      <td>0.476655</td>\n",
       "      <td>0.719626</td>\n",
       "      <td>0.570766</td>\n",
       "      <td>...</td>\n",
       "      <td>0.672131</td>\n",
       "      <td>0.823314</td>\n",
       "      <td>0.988290</td>\n",
       "      <td>0.234269</td>\n",
       "      <td>1.000000</td>\n",
       "      <td>0.867764</td>\n",
       "      <td>1.000000</td>\n",
       "      <td>0.930556</td>\n",
       "      <td>0.221692</td>\n",
       "      <td>0.399254</td>\n",
       "    </tr>\n",
       "    <tr>\n",
       "      <th>12</th>\n",
       "      <td>0.0</td>\n",
       "      <td>0.877224</td>\n",
       "      <td>0.334483</td>\n",
       "      <td>0.677285</td>\n",
       "      <td>0.687500</td>\n",
       "      <td>0.420647</td>\n",
       "      <td>0.590116</td>\n",
       "      <td>0.732404</td>\n",
       "      <td>0.586449</td>\n",
       "      <td>0.357309</td>\n",
       "      <td>...</td>\n",
       "      <td>0.619672</td>\n",
       "      <td>0.681085</td>\n",
       "      <td>0.435597</td>\n",
       "      <td>0.189739</td>\n",
       "      <td>0.625926</td>\n",
       "      <td>0.725969</td>\n",
       "      <td>0.258261</td>\n",
       "      <td>0.902778</td>\n",
       "      <td>0.229638</td>\n",
       "      <td>0.649254</td>\n",
       "    </tr>\n",
       "    <tr>\n",
       "      <th>13</th>\n",
       "      <td>0.0</td>\n",
       "      <td>0.590747</td>\n",
       "      <td>0.437931</td>\n",
       "      <td>0.350416</td>\n",
       "      <td>0.443182</td>\n",
       "      <td>0.591680</td>\n",
       "      <td>0.672965</td>\n",
       "      <td>0.423693</td>\n",
       "      <td>1.000000</td>\n",
       "      <td>0.635731</td>\n",
       "      <td>...</td>\n",
       "      <td>0.219672</td>\n",
       "      <td>0.369501</td>\n",
       "      <td>0.662763</td>\n",
       "      <td>0.022265</td>\n",
       "      <td>0.911111</td>\n",
       "      <td>0.074881</td>\n",
       "      <td>0.134783</td>\n",
       "      <td>0.690972</td>\n",
       "      <td>0.021851</td>\n",
       "      <td>0.626866</td>\n",
       "    </tr>\n",
       "  </tbody>\n",
       "</table>\n",
       "<p>5 rows × 7130 columns</p>\n",
       "</div>"
      ],
      "text/plain": [
       "    Cancer_type  AFFX-BioB-5_at  AFFX-BioB-M_at  AFFX-BioB-3_at  \\\n",
       "0           0.0        0.466192        0.596552        0.487535   \n",
       "5           0.0        0.727758        0.803448        0.684211   \n",
       "9           0.0        0.000000        0.389655        0.542936   \n",
       "12          0.0        0.877224        0.334483        0.677285   \n",
       "13          0.0        0.590747        0.437931        0.350416   \n",
       "\n",
       "    AFFX-BioC-5_at  AFFX-BioC-3_at  AFFX-BioDn-5_at  AFFX-BioDn-3_at  \\\n",
       "0         0.318182        0.369800         0.366279         0.644599   \n",
       "5         0.139205        0.548536         0.707849         0.411847   \n",
       "9         0.923295        0.203390         0.604651         0.476655   \n",
       "12        0.687500        0.420647         0.590116         0.732404   \n",
       "13        0.443182        0.591680         0.672965         0.423693   \n",
       "\n",
       "    AFFX-CreX-5_at  AFFX-CreX-3_at     ...       U48730_at  U58516_at  \\\n",
       "0         0.644860        0.928074     ...        0.488525   0.307918   \n",
       "5         0.759346        0.338747     ...        0.039344   0.097507   \n",
       "9         0.719626        0.570766     ...        0.672131   0.823314   \n",
       "12        0.586449        0.357309     ...        0.619672   0.681085   \n",
       "13        1.000000        0.635731     ...        0.219672   0.369501   \n",
       "\n",
       "    U73738_at  X06956_at  X16699_at  X83863_at  Z17240_at  L49218_f_at  \\\n",
       "0    0.398126   0.363988   0.677778   0.385555   0.322609     0.843750   \n",
       "5    0.831382   0.175218   0.777778   0.118959   0.072174     0.746528   \n",
       "9    0.988290   0.234269   1.000000   0.867764   1.000000     0.930556   \n",
       "12   0.435597   0.189739   0.625926   0.725969   0.258261     0.902778   \n",
       "13   0.662763   0.022265   0.911111   0.074881   0.134783     0.690972   \n",
       "\n",
       "    M71243_f_at  Z78285_f_at  \n",
       "0      0.088995     0.570896  \n",
       "5      0.012316     0.410448  \n",
       "9      0.221692     0.399254  \n",
       "12     0.229638     0.649254  \n",
       "13     0.021851     0.626866  \n",
       "\n",
       "[5 rows x 7130 columns]"
      ]
     },
     "execution_count": 153,
     "metadata": {},
     "output_type": "execute_result"
    }
   ],
   "source": [
    "data_train_norm=pd.DataFrame()\n",
    "data_train_norm = (data_train-data_train.min())/(data_train.max()-data_train.min())\n",
    "data_train_norm.head()"
   ]
  },
  {
   "cell_type": "code",
   "execution_count": 154,
   "metadata": {},
   "outputs": [
    {
     "data": {
      "text/html": [
       "<div>\n",
       "<style scoped>\n",
       "    .dataframe tbody tr th:only-of-type {\n",
       "        vertical-align: middle;\n",
       "    }\n",
       "\n",
       "    .dataframe tbody tr th {\n",
       "        vertical-align: top;\n",
       "    }\n",
       "\n",
       "    .dataframe thead th {\n",
       "        text-align: right;\n",
       "    }\n",
       "</style>\n",
       "<table border=\"1\" class=\"dataframe\">\n",
       "  <thead>\n",
       "    <tr style=\"text-align: right;\">\n",
       "      <th></th>\n",
       "      <th>Cancer_type</th>\n",
       "      <th>AFFX-BioB-5_at</th>\n",
       "      <th>AFFX-BioB-M_at</th>\n",
       "      <th>AFFX-BioB-3_at</th>\n",
       "      <th>AFFX-BioC-5_at</th>\n",
       "      <th>AFFX-BioC-3_at</th>\n",
       "      <th>AFFX-BioDn-5_at</th>\n",
       "      <th>AFFX-BioDn-3_at</th>\n",
       "      <th>AFFX-CreX-5_at</th>\n",
       "      <th>AFFX-CreX-3_at</th>\n",
       "      <th>...</th>\n",
       "      <th>U48730_at</th>\n",
       "      <th>U58516_at</th>\n",
       "      <th>U73738_at</th>\n",
       "      <th>X06956_at</th>\n",
       "      <th>X16699_at</th>\n",
       "      <th>X83863_at</th>\n",
       "      <th>Z17240_at</th>\n",
       "      <th>L49218_f_at</th>\n",
       "      <th>M71243_f_at</th>\n",
       "      <th>Z78285_f_at</th>\n",
       "    </tr>\n",
       "  </thead>\n",
       "  <tbody>\n",
       "    <tr>\n",
       "      <th>1</th>\n",
       "      <td>0.0</td>\n",
       "      <td>0.639080</td>\n",
       "      <td>0.805019</td>\n",
       "      <td>1.000000</td>\n",
       "      <td>0.102784</td>\n",
       "      <td>0.281755</td>\n",
       "      <td>0.338284</td>\n",
       "      <td>0.826538</td>\n",
       "      <td>0.464602</td>\n",
       "      <td>0.399408</td>\n",
       "      <td>...</td>\n",
       "      <td>0.632696</td>\n",
       "      <td>0.424965</td>\n",
       "      <td>1.000000</td>\n",
       "      <td>0.077617</td>\n",
       "      <td>0.012195</td>\n",
       "      <td>0.226606</td>\n",
       "      <td>0.165062</td>\n",
       "      <td>0.006024</td>\n",
       "      <td>0.059509</td>\n",
       "      <td>0.000000</td>\n",
       "    </tr>\n",
       "    <tr>\n",
       "      <th>2</th>\n",
       "      <td>0.0</td>\n",
       "      <td>0.705747</td>\n",
       "      <td>0.783784</td>\n",
       "      <td>0.403846</td>\n",
       "      <td>0.436831</td>\n",
       "      <td>0.718245</td>\n",
       "      <td>0.834983</td>\n",
       "      <td>0.720111</td>\n",
       "      <td>0.754425</td>\n",
       "      <td>0.461538</td>\n",
       "      <td>...</td>\n",
       "      <td>0.454352</td>\n",
       "      <td>0.294530</td>\n",
       "      <td>0.673428</td>\n",
       "      <td>0.206978</td>\n",
       "      <td>0.524390</td>\n",
       "      <td>0.053670</td>\n",
       "      <td>0.363136</td>\n",
       "      <td>0.391566</td>\n",
       "      <td>0.038037</td>\n",
       "      <td>0.503817</td>\n",
       "    </tr>\n",
       "    <tr>\n",
       "      <th>3</th>\n",
       "      <td>0.0</td>\n",
       "      <td>0.783908</td>\n",
       "      <td>0.747104</td>\n",
       "      <td>0.952797</td>\n",
       "      <td>0.194861</td>\n",
       "      <td>0.327945</td>\n",
       "      <td>0.394389</td>\n",
       "      <td>0.807878</td>\n",
       "      <td>0.628319</td>\n",
       "      <td>0.627219</td>\n",
       "      <td>...</td>\n",
       "      <td>0.186837</td>\n",
       "      <td>0.413745</td>\n",
       "      <td>0.196755</td>\n",
       "      <td>0.068601</td>\n",
       "      <td>0.573171</td>\n",
       "      <td>0.461927</td>\n",
       "      <td>0.594223</td>\n",
       "      <td>0.367470</td>\n",
       "      <td>0.134049</td>\n",
       "      <td>0.374046</td>\n",
       "    </tr>\n",
       "    <tr>\n",
       "      <th>4</th>\n",
       "      <td>0.0</td>\n",
       "      <td>0.000000</td>\n",
       "      <td>0.523166</td>\n",
       "      <td>0.548951</td>\n",
       "      <td>0.072805</td>\n",
       "      <td>0.000000</td>\n",
       "      <td>0.000000</td>\n",
       "      <td>0.527298</td>\n",
       "      <td>0.000000</td>\n",
       "      <td>0.461538</td>\n",
       "      <td>...</td>\n",
       "      <td>0.736730</td>\n",
       "      <td>0.280505</td>\n",
       "      <td>0.383367</td>\n",
       "      <td>0.127793</td>\n",
       "      <td>0.823171</td>\n",
       "      <td>0.763761</td>\n",
       "      <td>0.544704</td>\n",
       "      <td>0.662651</td>\n",
       "      <td>0.260429</td>\n",
       "      <td>0.847328</td>\n",
       "    </tr>\n",
       "    <tr>\n",
       "      <th>6</th>\n",
       "      <td>0.0</td>\n",
       "      <td>0.737931</td>\n",
       "      <td>0.795367</td>\n",
       "      <td>0.482517</td>\n",
       "      <td>0.447537</td>\n",
       "      <td>0.711316</td>\n",
       "      <td>0.929043</td>\n",
       "      <td>0.683483</td>\n",
       "      <td>0.887168</td>\n",
       "      <td>0.292899</td>\n",
       "      <td>...</td>\n",
       "      <td>0.575372</td>\n",
       "      <td>0.248247</td>\n",
       "      <td>0.563895</td>\n",
       "      <td>0.217170</td>\n",
       "      <td>0.445122</td>\n",
       "      <td>0.258257</td>\n",
       "      <td>0.346630</td>\n",
       "      <td>0.451807</td>\n",
       "      <td>0.043558</td>\n",
       "      <td>0.610687</td>\n",
       "    </tr>\n",
       "  </tbody>\n",
       "</table>\n",
       "<p>5 rows × 7130 columns</p>\n",
       "</div>"
      ],
      "text/plain": [
       "   Cancer_type  AFFX-BioB-5_at  AFFX-BioB-M_at  AFFX-BioB-3_at  \\\n",
       "1          0.0        0.639080        0.805019        1.000000   \n",
       "2          0.0        0.705747        0.783784        0.403846   \n",
       "3          0.0        0.783908        0.747104        0.952797   \n",
       "4          0.0        0.000000        0.523166        0.548951   \n",
       "6          0.0        0.737931        0.795367        0.482517   \n",
       "\n",
       "   AFFX-BioC-5_at  AFFX-BioC-3_at  AFFX-BioDn-5_at  AFFX-BioDn-3_at  \\\n",
       "1        0.102784        0.281755         0.338284         0.826538   \n",
       "2        0.436831        0.718245         0.834983         0.720111   \n",
       "3        0.194861        0.327945         0.394389         0.807878   \n",
       "4        0.072805        0.000000         0.000000         0.527298   \n",
       "6        0.447537        0.711316         0.929043         0.683483   \n",
       "\n",
       "   AFFX-CreX-5_at  AFFX-CreX-3_at     ...       U48730_at  U58516_at  \\\n",
       "1        0.464602        0.399408     ...        0.632696   0.424965   \n",
       "2        0.754425        0.461538     ...        0.454352   0.294530   \n",
       "3        0.628319        0.627219     ...        0.186837   0.413745   \n",
       "4        0.000000        0.461538     ...        0.736730   0.280505   \n",
       "6        0.887168        0.292899     ...        0.575372   0.248247   \n",
       "\n",
       "   U73738_at  X06956_at  X16699_at  X83863_at  Z17240_at  L49218_f_at  \\\n",
       "1   1.000000   0.077617   0.012195   0.226606   0.165062     0.006024   \n",
       "2   0.673428   0.206978   0.524390   0.053670   0.363136     0.391566   \n",
       "3   0.196755   0.068601   0.573171   0.461927   0.594223     0.367470   \n",
       "4   0.383367   0.127793   0.823171   0.763761   0.544704     0.662651   \n",
       "6   0.563895   0.217170   0.445122   0.258257   0.346630     0.451807   \n",
       "\n",
       "   M71243_f_at  Z78285_f_at  \n",
       "1     0.059509     0.000000  \n",
       "2     0.038037     0.503817  \n",
       "3     0.134049     0.374046  \n",
       "4     0.260429     0.847328  \n",
       "6     0.043558     0.610687  \n",
       "\n",
       "[5 rows x 7130 columns]"
      ]
     },
     "execution_count": 154,
     "metadata": {},
     "output_type": "execute_result"
    }
   ],
   "source": [
    "data_test_norm=pd.DataFrame()\n",
    "data_test_norm = (data_test-data_test.min())/(data_test.max()-data_test.min())\n",
    "data_test_norm.head()"
   ]
  },
  {
   "cell_type": "markdown",
   "metadata": {},
   "source": [
    "Q-3: Notice that the results training set contains more predictors than observations. Do you foresee a problem in fitting a classification model to such a data set?"
   ]
  },
  {
   "cell_type": "markdown",
   "metadata": {},
   "source": [
    "**The problem with more predictors than cases (usually indicated as \"p>n\") is that there is then no unique solution to a standard linear regression problem. If rows of the matrix of data points represent cases and columns represent predictors, there are necessarily linear dependences among the columns of the matrix. So once you've found coefficients for n of the predictors, the coefficients for the other (p−n) predictors can be expressed as arbitrary linear combinations of those first n predictors. Other approaches like LASSO or ridge regression, or a variety of other machine-learning approaches, provide ways to proceed in such cases.**"
   ]
  },
  {
   "cell_type": "markdown",
   "metadata": {},
   "source": [
    "Q-4: A convenient tool to visualize the gene expression data is a heat map. Arrange the rows of the training set so that the 'AML' rows are grouped together and the 'ALL' rows are together. Generate a heat map of the data with expression values from the following genes:  D49818_at, M23161_at, hum_alu_at, AFFX-PheX-5_at, M15990_at. By observing the heat map, comment on which of these genes are useful in discriminating between the two classes."
   ]
  },
  {
   "cell_type": "code",
   "execution_count": 155,
   "metadata": {},
   "outputs": [
    {
     "data": {
      "text/html": [
       "<div>\n",
       "<style scoped>\n",
       "    .dataframe tbody tr th:only-of-type {\n",
       "        vertical-align: middle;\n",
       "    }\n",
       "\n",
       "    .dataframe tbody tr th {\n",
       "        vertical-align: top;\n",
       "    }\n",
       "\n",
       "    .dataframe thead th {\n",
       "        text-align: right;\n",
       "    }\n",
       "</style>\n",
       "<table border=\"1\" class=\"dataframe\">\n",
       "  <thead>\n",
       "    <tr style=\"text-align: right;\">\n",
       "      <th></th>\n",
       "      <th>Cancer_type</th>\n",
       "      <th>D49818_at</th>\n",
       "      <th>M23161_at</th>\n",
       "      <th>hum_alu_at</th>\n",
       "      <th>AFFX-PheX-5_at</th>\n",
       "      <th>M15990_at</th>\n",
       "    </tr>\n",
       "  </thead>\n",
       "  <tbody>\n",
       "    <tr>\n",
       "      <th>0</th>\n",
       "      <td>0.0</td>\n",
       "      <td>0.256901</td>\n",
       "      <td>0.725664</td>\n",
       "      <td>0.200615</td>\n",
       "      <td>0.624521</td>\n",
       "      <td>0.400474</td>\n",
       "    </tr>\n",
       "    <tr>\n",
       "      <th>5</th>\n",
       "      <td>0.0</td>\n",
       "      <td>0.543662</td>\n",
       "      <td>0.099115</td>\n",
       "      <td>0.480008</td>\n",
       "      <td>0.704981</td>\n",
       "      <td>0.162322</td>\n",
       "    </tr>\n",
       "    <tr>\n",
       "      <th>9</th>\n",
       "      <td>0.0</td>\n",
       "      <td>0.745352</td>\n",
       "      <td>0.428319</td>\n",
       "      <td>0.175721</td>\n",
       "      <td>0.000000</td>\n",
       "      <td>0.388626</td>\n",
       "    </tr>\n",
       "    <tr>\n",
       "      <th>12</th>\n",
       "      <td>0.0</td>\n",
       "      <td>0.474930</td>\n",
       "      <td>1.000000</td>\n",
       "      <td>0.000000</td>\n",
       "      <td>0.505747</td>\n",
       "      <td>0.364929</td>\n",
       "    </tr>\n",
       "    <tr>\n",
       "      <th>13</th>\n",
       "      <td>0.0</td>\n",
       "      <td>0.491831</td>\n",
       "      <td>0.454867</td>\n",
       "      <td>0.364832</td>\n",
       "      <td>0.620690</td>\n",
       "      <td>0.199052</td>\n",
       "    </tr>\n",
       "  </tbody>\n",
       "</table>\n",
       "</div>"
      ],
      "text/plain": [
       "    Cancer_type  D49818_at  M23161_at  hum_alu_at  AFFX-PheX-5_at  M15990_at\n",
       "0           0.0   0.256901   0.725664    0.200615        0.624521   0.400474\n",
       "5           0.0   0.543662   0.099115    0.480008        0.704981   0.162322\n",
       "9           0.0   0.745352   0.428319    0.175721        0.000000   0.388626\n",
       "12          0.0   0.474930   1.000000    0.000000        0.505747   0.364929\n",
       "13          0.0   0.491831   0.454867    0.364832        0.620690   0.199052"
      ]
     },
     "execution_count": 155,
     "metadata": {},
     "output_type": "execute_result"
    }
   ],
   "source": [
    "genes = ['Cancer_type','D49818_at', 'M23161_at', 'hum_alu_at', 'AFFX-PheX-5_at', 'M15990_at']\n",
    "df_genes = data_train_norm[genes]\n",
    "df_genes.head()"
   ]
  },
  {
   "cell_type": "code",
   "execution_count": 156,
   "metadata": {
    "scrolled": true
   },
   "outputs": [],
   "source": [
    "df_genes = df_genes.sort_values(['Cancer_type'], ascending=True)\n",
    "df_genes.reset_index(drop=True,inplace=True)"
   ]
  },
  {
   "cell_type": "code",
   "execution_count": 157,
   "metadata": {
    "scrolled": false
   },
   "outputs": [
    {
     "data": {
      "text/plain": [
       "<matplotlib.axes._subplots.AxesSubplot at 0x7f9084e32668>"
      ]
     },
     "execution_count": 157,
     "metadata": {},
     "output_type": "execute_result"
    },
    {
     "data": {
      "image/png": "[encoded data removed]",
      "text/plain": [
       "<Figure size 720x720 with 2 Axes>"
      ]
     },
     "metadata": {},
     "output_type": "display_data"
    }
   ],
   "source": [
    "fig, ax = plt.subplots(figsize=(10,10))         # Sample figsize in inches\n",
    "sns.heatmap(df_genes, annot=True, linewidths=.2, ax=ax)"
   ]
  },
  {
   "cell_type": "markdown",
   "metadata": {},
   "source": [
    "**It is not clearly evident which predictors are useful for predicting of class 0 and class 1 lukemia. However 'M23161_at' and 'M15990_at' appears to be close to class 0**"
   ]
  },
  {
   "cell_type": "markdown",
   "metadata": {},
   "source": [
    "Q-5: We can also visualize this data set in two dimensions using PCA. Find the top two principal components for the gene expression data. Generate a scatter plot using these principal components, highlighting the AML and ALL points in different colors. How well do the top two principal components discriminate between the two classes?"
   ]
  },
  {
   "cell_type": "code",
   "execution_count": 158,
   "metadata": {},
   "outputs": [],
   "source": [
    "data_train_norm = data_train_norm.sort_values(['Cancer_type'], ascending=True)\n",
    "data_train_norm.reset_index(drop=True,inplace=True)"
   ]
  },
  {
   "cell_type": "code",
   "execution_count": 159,
   "metadata": {},
   "outputs": [],
   "source": [
    "x_train = data_train_norm.drop(['Cancer_type'], axis=1).values\n",
    "y_train = data_train_norm['Cancer_type'].values"
   ]
  },
  {
   "cell_type": "code",
   "execution_count": 160,
   "metadata": {},
   "outputs": [],
   "source": [
    "pca = PCA(n_components=2)\n",
    "principalComponents = pca.fit_transform(x_train)\n",
    "principalDf = pd.DataFrame(data = principalComponents,\n",
    "                           columns = ['PC 1', 'PC 2'])"
   ]
  },
  {
   "cell_type": "code",
   "execution_count": 161,
   "metadata": {},
   "outputs": [],
   "source": [
    "finalDf = pd.concat([principalDf, data_train_norm[['Cancer_type']]], axis = 1)"
   ]
  },
  {
   "cell_type": "code",
   "execution_count": 162,
   "metadata": {},
   "outputs": [
    {
     "data": {
      "image/png": "[encoded data removed]",
      "text/plain": [
       "<Figure size 576x576 with 1 Axes>"
      ]
     },
     "metadata": {},
     "output_type": "display_data"
    }
   ],
   "source": [
    "fig = plt.figure(figsize = (8,8))\n",
    "ax = fig.add_subplot(1,1,1) \n",
    "ax.set_xlabel('PC 1', fontsize = 15)\n",
    "ax.set_ylabel('PC 2', fontsize = 15)\n",
    "ax.set_title('2 component PCA', fontsize = 20)\n",
    "targets = [0,1]\n",
    "colors = ['r', 'g']\n",
    "for target, color in zip(targets,colors):\n",
    "    indicesToKeep = finalDf['Cancer_type'] == target\n",
    "    ax.scatter(finalDf.loc[indicesToKeep, 'PC 1']\n",
    "               , finalDf.loc[indicesToKeep, 'PC 2']\n",
    "               , c = color\n",
    "               , s = 50)\n",
    "ax.legend(targets)\n",
    "ax.grid()"
   ]
  },
  {
   "cell_type": "markdown",
   "metadata": {},
   "source": [
    "It is difficult to draw a decision boundary that perfectly separates red from blue points.\n",
    "But PCA will help us classify the two classes, we will see that in further experiments."
   ]
  },
  {
   "cell_type": "markdown",
   "metadata": {},
   "source": [
    "## Part (b): Linear Regression vs. Logistic Regression\n",
    "\n",
    "Begin by analyzing the differences between using linear regression and logistic regression for classification. For this part, you shall work with a single gene predictor: `D29963_at`."
   ]
  },
  {
   "cell_type": "markdown",
   "metadata": {},
   "source": [
    "#### Q-1 Fit a simple linear regression model to the training set using the single gene predictor D29963_at. We could interpret the scores predicted by regression model interpreted for a patient as an estimate of the probability that the patient has the ALL type cancer (class 1). Is there a problem with this interpretation?"
   ]
  },
  {
   "cell_type": "code",
   "execution_count": 163,
   "metadata": {},
   "outputs": [],
   "source": [
    "x_train_single_var = data_train_norm['D29963_at'].values.reshape(-1,1)\n",
    "y_train_single_var = data_train_norm['Cancer_type'].values.reshape(-1,1)"
   ]
  },
  {
   "cell_type": "code",
   "execution_count": 164,
   "metadata": {},
   "outputs": [],
   "source": [
    "x_test_single_var = data_test_norm['D29963_at'].values.reshape(-1,1)\n",
    "y_test_single_var = data_test_norm['Cancer_type'].values.reshape(-1,1)"
   ]
  },
  {
   "cell_type": "code",
   "execution_count": 165,
   "metadata": {},
   "outputs": [
    {
     "name": "stdout",
     "output_type": "stream",
     "text": [
      "Training R2:  0.10034487947411229\n",
      "Testing R2:  0.32997273786739123\n"
     ]
    }
   ],
   "source": [
    "lr_model = LinearRegression()\n",
    "lr_model.fit(x_train_single_var,y_train_single_var)\n",
    "\n",
    "lr_test_score = lr_model.score(x_test_single_var,y_test_single_var)\n",
    "lr_train_score = lr_model.score(x_train_single_var,y_train_single_var)\n",
    "\n",
    "print('Training R2: ',lr_train_score)\n",
    "print('Testing R2: ',lr_test_score)"
   ]
  },
  {
   "cell_type": "markdown",
   "metadata": {},
   "source": [
    "**Since we're only using one predictor, we can not deduce that this is predictor single handedly retains the predictive power of the model, this is the problem with this intrepretation of the model**"
   ]
  },
  {
   "cell_type": "markdown",
   "metadata": {},
   "source": [
    "####  Q-2 The fitted linear regression model can be converted to a classification model (i.e. a model that predicts one of two binary labels 0 or 1) by classifying patients with predicted score greater than 0.5 into the ALL type (class 1), and the others into the AML type (class 0). Evaluate the classification accuracy (1 - misclassification rate) of the obtained classification model on both the training and test sets."
   ]
  },
  {
   "cell_type": "code",
   "execution_count": 166,
   "metadata": {},
   "outputs": [
    {
     "name": "stdout",
     "output_type": "stream",
     "text": [
      "Accuracy on trainset:  0.71875\n",
      "Accuracy on testset:  0.8536585365853658\n"
     ]
    }
   ],
   "source": [
    "train_pred = lr_model.predict(x_train_single_var)\n",
    "my_list = map(lambda x: x[0], train_pred)\n",
    "train_pred = pd.Series(my_list)\n",
    "\n",
    "test_pred = lr_model.predict(x_test_single_var)\n",
    "my_list = map(lambda x: x[0], test_pred)\n",
    "test_pred = pd.Series(my_list)\n",
    "\n",
    "df = pd.DataFrame()\n",
    "df['train_pred'] = train_pred\n",
    "df['target_train'] = len(df['train_pred'])\n",
    "for i,val in enumerate(df['train_pred']):\n",
    "    if val > 0.5:\n",
    "        df.iloc[i,1]=1\n",
    "    else:    \n",
    "        df.iloc[i,1]=0\n",
    "\n",
    "df_test = pd.DataFrame()\n",
    "df_test['test_pred'] = test_pred\n",
    "df_test['target_test'] = len(df_test['test_pred'])\n",
    "for i,val in enumerate(df_test['test_pred']):\n",
    "    if val > 0.5:\n",
    "        df_test.iloc[i,1]=1\n",
    "    else:    \n",
    "        df_test.iloc[i,1]=0\n",
    "        \n",
    "print('Accuracy on trainset: ',accuracy_score(data_train_norm['Cancer_type'],df['target_train']))\n",
    "print('Accuracy on testset: ',accuracy_score(data_test_norm['Cancer_type'],df_test['target_test']))"
   ]
  },
  {
   "cell_type": "markdown",
   "metadata": {},
   "source": [
    "#### Q-3 Next, fit a simple logistic regression model to the training set. How does the training and test calssification accuracy of this model compare with the linear regression model? Remember, you need to set the regularization parameter for sklearn's logistic regression function to be a very large value in order not to regularize (use 'C=100000')."
   ]
  },
  {
   "cell_type": "code",
   "execution_count": 167,
   "metadata": {},
   "outputs": [
    {
     "name": "stdout",
     "output_type": "stream",
     "text": [
      "Accuracy on trainset:  0.71875\n",
      "Accuracy on testset:  0.8536585365853658\n"
     ]
    }
   ],
   "source": [
    "logreg = LogisticRegression(C=100000)\n",
    "logreg.fit(x_train_single_var, y_train_single_var.ravel())\n",
    "\n",
    "lg_test = logreg.predict_proba(x_test_single_var)[:,1]\n",
    "lg_train = logreg.predict_proba(x_train_single_var)[:,1]\n",
    "\n",
    "print(\"Accuracy on trainset: \", accuracy_score(y_train_single_var,lg_train>0.5))\n",
    "print(\"Accuracy on testset: \", accuracy_score(data_test_norm['Cancer_type'],test_pred>0.5))"
   ]
  },
  {
   "cell_type": "markdown",
   "metadata": {},
   "source": [
    "#### Trainset and testset accuracy of both models is same."
   ]
  },
  {
   "cell_type": "markdown",
   "metadata": {},
   "source": [
    "#### Q-4 Plot the quantitative output from linear regression model and the probabilistic output from the logistic regression model (on the training set points) as a function of the gene predictor. Also, display the true binary response for the training set points in the same plot. Based on these plots, does one of the models appear better suited for binary classification than the other? Explain."
   ]
  },
  {
   "cell_type": "code",
   "execution_count": 168,
   "metadata": {},
   "outputs": [
    {
     "data": {
      "text/plain": [
       "<matplotlib.legend.Legend at 0x7f908491b9e8>"
      ]
     },
     "execution_count": 168,
     "metadata": {},
     "output_type": "execute_result"
    },
    {
     "data": {
      "image/png": "[encoded data removed]",
      "text/plain": [
       "<Figure size 432x288 with 1 Axes>"
      ]
     },
     "metadata": {},
     "output_type": "display_data"
    }
   ],
   "source": [
    "plt.scatter(data_train_norm[[\"D29963_at\"]], train_pred, label=\"ols\", c='blue', alpha=0.5, s=40)\n",
    "plt.scatter(data_train_norm[[\"D29963_at\"]], lg_train, label=\"logreg\", c='red', alpha=0.5, s=40)\n",
    "plt.scatter(data_train_norm[[\"D29963_at\"]], y_train_single_var, label=\"Cancer_type\", c='black', alpha=0.5, edgecolor='none', s=40)\n",
    "plt.title(\"Training\")\n",
    "plt.ylabel(\"predicted accuracy\")\n",
    "plt.xlabel(\"D29963_at\")\n",
    "plt.legend(loc='best')"
   ]
  },
  {
   "cell_type": "markdown",
   "metadata": {},
   "source": [
    "## Part (c): Multiple Logistic Regression\n",
    "\n",
    "**Q-1. Next, fit a multiple logistic regression model with all the gene predictors from the data set.  How does the classification accuracy of this model compare with the models fitted in Part (b) with a single gene (on both the training and test sets)?**"
   ]
  },
  {
   "cell_type": "code",
   "execution_count": 169,
   "metadata": {},
   "outputs": [],
   "source": [
    "x_train = data_train.iloc[:,1:]\n",
    "y_train = data_train.iloc[:,0]\n",
    "x_test = data_test.iloc[:,1:]\n",
    "y_test = data_test.iloc[:,0]\n"
   ]
  },
  {
   "cell_type": "code",
   "execution_count": 170,
   "metadata": {},
   "outputs": [
    {
     "name": "stdout",
     "output_type": "stream",
     "text": [
      "Accuracy on trainset:  1.0\n",
      "Accuracy on testset:  0.926829268292683\n"
     ]
    }
   ],
   "source": [
    "mlr_model = LogisticRegression()\n",
    "mlr_model.fit(x_train,y_train)\n",
    "\n",
    "mlr_train = mlr_model.predict_proba(x_train)[:,1]\n",
    "mlr_test = mlr_model.predict_proba(x_test)[:,1]\n",
    "\n",
    "print(\"Accuracy on trainset: \", accuracy_score(y_train,mlr_train>0.5))\n",
    "print(\"Accuracy on testset: \", accuracy_score(y_test,mlr_test>0.5))"
   ]
  },
  {
   "cell_type": "markdown",
   "metadata": {},
   "source": [
    "#### It is evident that accuracy on both train and test set using all genes is higher than accuracy using a single gene."
   ]
  },
  {
   "cell_type": "markdown",
   "metadata": {},
   "source": [
    "**Q-2. \"Use the visualize_prob from HW5_functions.py to visualize the probabilties predicted by the fitted multiple logistic regression model on both the training and test data sets. The function creates a visualization that places the data points on a vertical line based on the predicted probabilities, with the ALL and AML classes shown in different colors, and with the 0.5 threshold highlighted using a dotted horizontal line. Is there a difference in the spread of probabilities in the training and test plots? Are there data points for which the predicted probability is close to 0.5? If so, what can you say about these points?\"**"
   ]
  },
  {
   "cell_type": "code",
   "execution_count": 171,
   "metadata": {},
   "outputs": [],
   "source": [
    "def visualize_prob(model, x, y, ax):\n",
    "    # Use the model to predict probabilities for\n",
    "    y_pred = model.predict_proba(x)\n",
    "    \n",
    "    # Separate the predictions on the label 1 and label 0 points\n",
    "    ypos = y_pred[y==1]\n",
    "    yneg = y_pred[y==0]\n",
    "    \n",
    "    # Count the number of label 1 and label 0 points\n",
    "    npos = ypos.shape[0]\n",
    "    nneg = yneg.shape[0]\n",
    "    \n",
    "    # Plot the probabilities on a vertical line at x = 0, \n",
    "    # with the positive points in blue and negative points in red\n",
    "    pos_handle = ax.plot(np.zeros((npos,1)), ypos[:,1], 'bx', label = 'ALL')\n",
    "    neg_handle = ax.plot(np.zeros((nneg,1)), yneg[:,1], 'o', label = 'AML', mfc='none', mec='r')\n",
    "    \n",
    "    # Line to mark prob 0.5\n",
    "    ax.axhline(y = 0.5, color = 'k', linestyle = '--')\n",
    "    \n",
    "    # Add y-label and legend, do not display x-axis, set y-axis limit\n",
    "    ax.set_ylabel('Probability of AML class')\n",
    "    ax.legend(loc = 'best')\n",
    "    ax.get_xaxis().set_visible(False)\n",
    "    ax.set_ylim([0,1])\n"
   ]
  },
  {
   "cell_type": "code",
   "execution_count": 172,
   "metadata": {},
   "outputs": [
    {
     "data": {
      "image/png": "[encoded data removed]",
      "text/plain": [
       "<Figure size 432x288 with 2 Axes>"
      ]
     },
     "metadata": {},
     "output_type": "display_data"
    }
   ],
   "source": [
    "f, (ax1, ax2) = plt.subplots(1, 2)\n",
    "visualize_prob(\n",
    "    model=mlr_model,\n",
    "    x=x_train,\n",
    "    y=y_train,\n",
    "    ax=ax1\n",
    ")\n",
    "ax1.set_title(\"TRAIN\")\n",
    "\n",
    "visualize_prob(\n",
    "    model=mlr_model,\n",
    "    x=x_test,\n",
    "    y=y_test,\n",
    "    ax=ax2\n",
    ")\n",
    "ax2.set_title(\"TEST\")\n",
    "plt.tight_layout()"
   ]
  },
  {
   "cell_type": "markdown",
   "metadata": {},
   "source": [
    "**- In the training set it can be seen that they belong to two classes (0,1), but in the test set there are few points which are close to the dotted line.**\n",
    "\n",
    "**- Classification algorithm will predict one point of ALL wrongly to be in the AML class as it is below the dotted line.**"
   ]
  },
  {
   "cell_type": "markdown",
   "metadata": {},
   "source": [
    "## Part (d): Analyzing Significance of Coefficients\n",
    "\n",
    "How many of the coefficients estimated by the multiple logistic regression in the previous problem are significantly different from zero at a *significance level of 95%*? \n",
    "\n",
    "Hint: To answer this question, use *bootstrapping* with 100 boostrap samples/iterations.  \n",
    "\n"
   ]
  },
  {
   "cell_type": "code",
   "execution_count": 173,
   "metadata": {},
   "outputs": [
    {
     "name": "stdout",
     "output_type": "stream",
     "text": [
      "At 95pct confidence level there are 1679 significant coefficients out of 7129 coefficients\n"
     ]
    }
   ],
   "source": [
    "b_genes = mlr_model.coef_[0]\n",
    "iterations = 100\n",
    "\n",
    "b_genes_boot = np.zeros((x_train.shape[1],100))\n",
    "\n",
    "for i in range(iterations):\n",
    "    # sample with replacement from X_train\n",
    "    boot_rows = np.random.choice(range(x_train.shape[0]), size=x_train.shape[0], replace=True)\n",
    "    X_train_boot = x_train.values[boot_rows]\n",
    "    y_train_boot = y_train.values[boot_rows]\n",
    "\n",
    "    # fit\n",
    "    logregmul_boot = LogisticRegression(C=100000, fit_intercept=False)\n",
    "    logregmul_boot.fit(X_train_boot, y_train_boot)\n",
    "    b_genes_boot[:,i] = logregmul_boot.coef_\n",
    "    \n",
    "# construct confidence intervals\n",
    "b_genes_ci_upper = np.percentile(b_genes_boot, 97.5, axis=1)\n",
    "b_genes_ci_lower = np.percentile(b_genes_boot, 2.5, axis=1)\n",
    "\n",
    "# ct significant predictors\n",
    "sig_b_ct = 0\n",
    "\n",
    "# if ci contains 0, then insignificant\n",
    "for i in range(x_train.shape[1]):\n",
    "    if b_genes_ci_upper[i]<0 or b_genes_ci_lower[i]>0:\n",
    "        sig_b_ct += 1\n",
    "\n",
    "print(\"At 95pct confidence level there are {0} significant coefficients out of {1} coefficients\".format(sig_b_ct, x_train.shape[1]))"
   ]
  },
  {
   "cell_type": "markdown",
   "metadata": {},
   "source": [
    "## Part (e): Dimensionality Reduction using PCA\n",
    "\n",
    "A reasonable approach to reduce the dimensionality of the data is to use PCA and fit a logistic regression model on the first set of principal components contributing to 90% of the variance in the predictors.\n",
    "\n",
    "**Q-1. How do the classification accuracy values on both the training and tests sets compare with the models fitted in Parts (c) and (d)?**  \n",
    "\n",
    "**Q-2. Re-fit a logistic regression model using 5-fold cross-validation to choose the number of principal components, and comment on whether you get better test performance than the model fitted above (explain your observations).**\n",
    "\n",
    "**Q-3. Use the code provided in Part (c) to visualize the probabilities predicted by the fitted models on both the training and test sets. How does the spread of probabilities in these plots compare to those for the models in Part (c) and (d)?**\n"
   ]
  },
  {
   "cell_type": "code",
   "execution_count": 174,
   "metadata": {},
   "outputs": [
    {
     "data": {
      "image/png": "[encoded data removed]",
      "text/plain": [
       "<Figure size 432x288 with 1 Axes>"
      ]
     },
     "metadata": {},
     "output_type": "display_data"
    }
   ],
   "source": [
    "pca = PCA()\n",
    "pca.fit(x_train)\n",
    "var_c = np.cumsum(pca.explained_variance_ratio_)\n",
    "\n",
    "plt.plot(range(len(var_c)), var_c)\n",
    "plt.axhline(0.9,ls='--',color='black')\n",
    "plt.xlabel(\"pca components\")\n",
    "plt.ylabel(\"cumulative variance explained\");"
   ]
  },
  {
   "cell_type": "code",
   "execution_count": 175,
   "metadata": {},
   "outputs": [
    {
     "name": "stdout",
     "output_type": "stream",
     "text": [
      "the first 18 components explain 0.912 of variance\n"
     ]
    }
   ],
   "source": [
    "n_components_pca = np.sum(var_c<0.9)\n",
    "print(\"the first %i components explain %0.3f of variance\" % (n_components_pca, var_c[n_components_pca]))\n",
    "\n",
    "x_train_pca = pca.transform(x_train)[:,:n_components_pca]\n",
    "x_test_pca = pca.transform(x_test)[:,:n_components_pca]"
   ]
  },
  {
   "cell_type": "code",
   "execution_count": 176,
   "metadata": {},
   "outputs": [],
   "source": [
    "logregpca = LogisticRegression(C=100000, fit_intercept=True)\n",
    "logregpca.fit(x_train_pca, y_train)\n",
    "y_hat_pca_train = logregpca.predict_proba(x_train_pca)[:,1]\n",
    "y_hat_pca_test = logregpca.predict_proba(x_test_pca)[:,1]"
   ]
  },
  {
   "cell_type": "code",
   "execution_count": 177,
   "metadata": {},
   "outputs": [
    {
     "name": "stdout",
     "output_type": "stream",
     "text": [
      "pca 90pct + logit accuracy in train = 1.000\n",
      "pca 90pct + logit accuracy in test = 0.951\n"
     ]
    }
   ],
   "source": [
    "# accuracy\n",
    "print(\"pca 90pct + logit accuracy in train = %0.3f\" % accuracy_score(y_train, y_hat_pca_train>0.5))\n",
    "print(\"pca 90pct + logit accuracy in test = %0.3f\" % accuracy_score(y_test, y_hat_pca_test>0.5))\n"
   ]
  },
  {
   "cell_type": "code",
   "execution_count": 178,
   "metadata": {},
   "outputs": [],
   "source": [
    "from sklearn.model_selection import KFold\n",
    "accuracy_train_cv = np.zeros((25,5))\n",
    "accuracy_valid_cv = np.zeros((25,5))\n",
    "\n",
    "fold_ctr = 0\n",
    "\n",
    "for itrain, ivalid in KFold(n_splits=5, shuffle=True, random_state=9001).split(x_train):\n",
    "    # in general though its good for creating consistent psets, don't put seeds into kfold\n",
    "    # split\n",
    "    X_train_cv = x_train.iloc[itrain,:]\n",
    "    y_train_cv = y_train.iloc[itrain]\n",
    "    X_valid_cv = x_train.iloc[ivalid,:]\n",
    "    y_valid_cv = y_train.iloc[ivalid]\n",
    "    \n",
    "    # pca\n",
    "    pca = PCA()\n",
    "    pca.fit(X_train_cv)\n",
    "    X_train_pca_cv = pca.transform(X_train_cv)\n",
    "    X_valid_pca_cv = pca.transform(X_valid_cv)\n",
    "    \n",
    "    for comp in range(1,25):\n",
    "        # fit logit\n",
    "        logregcv = LogisticRegression(C=100000, fit_intercept=True)\n",
    "        logregcv.fit(X_train_pca_cv[:,:comp], y_train_cv)\n",
    "        \n",
    "        # get predictions\n",
    "        yhat_train_pca_cv = logregcv.predict(X_train_pca_cv[:,:comp])\n",
    "        yhat_valid_pca_cv = logregcv.predict(X_valid_pca_cv[:,:comp])\n",
    "        \n",
    "        # get accuracy       \n",
    "        accuracy_train_cv[comp,fold_ctr] = accuracy_score(y_train_cv, yhat_train_pca_cv)\n",
    "        accuracy_valid_cv[comp,fold_ctr] = accuracy_score(y_valid_cv, yhat_valid_pca_cv)\n",
    "        \n",
    "    fold_ctr += 1\n"
   ]
  },
  {
   "cell_type": "code",
   "execution_count": 179,
   "metadata": {},
   "outputs": [],
   "source": [
    "scores_train = np.mean(accuracy_train_cv, axis=1)[1:]\n",
    "upp_train = scores_train + np.std(accuracy_train_cv, axis=1)[1:] # this doesn't constrain accuracy to be less than 1\n",
    "low_train = scores_train - np.std(accuracy_train_cv, axis=1)[1:]\n",
    "scores_valid = np.mean(accuracy_valid_cv, axis=1)[1:]\n",
    "upp_valid = scores_valid + np.std(accuracy_valid_cv, axis=1)[1:]\n",
    "low_valid = scores_valid - np.std(accuracy_valid_cv, axis=1)[1:]"
   ]
  },
  {
   "cell_type": "code",
   "execution_count": 180,
   "metadata": {},
   "outputs": [
    {
     "name": "stdout",
     "output_type": "stream",
     "text": [
      "maximum validation accuracy using 18 pca components\n"
     ]
    }
   ],
   "source": [
    "# choose optimum as smallest number of components \"sufficiently\" close to maximum validation accuracy\n",
    "for i in range(len(scores_valid)):\n",
    "    if np.max(scores_valid)-scores_valid[i]<0.002:\n",
    "        n_components_optimal=i+1\n",
    "        break\n",
    "\n",
    "print(\"maximum validation accuracy using %i pca components\" % n_components_optimal)\n"
   ]
  },
  {
   "cell_type": "code",
   "execution_count": 181,
   "metadata": {},
   "outputs": [],
   "source": [
    "logregpcacv = LogisticRegression(C=100000, fit_intercept=True)\n",
    "logregpcacv.fit(x_train_pca[:,:n_components_optimal], y_train)\n",
    "y_hat_pcacv_train = logregpcacv.predict_proba(x_train_pca[:,:n_components_optimal])[:,1]\n",
    "y_hat_pcacv_test = logregpcacv.predict_proba(x_test_pca[:,:n_components_optimal])[:,1]\n"
   ]
  },
  {
   "cell_type": "code",
   "execution_count": 182,
   "metadata": {},
   "outputs": [
    {
     "name": "stdout",
     "output_type": "stream",
     "text": [
      "pca cv + logit accuracy in train = 1.000\n",
      "pca cv + logit accuracy in test = 0.951\n"
     ]
    }
   ],
   "source": [
    "print(\"pca cv + logit accuracy in train = %0.3f\" % accuracy_score(y_train, y_hat_pcacv_train>0.5))\n",
    "print(\"pca cv + logit accuracy in test = %0.3f\" % accuracy_score(y_test, y_hat_pcacv_test>0.5))\n"
   ]
  },
  {
   "cell_type": "code",
   "execution_count": 183,
   "metadata": {},
   "outputs": [
    {
     "data": {
      "image/png": "[encoded data removed]",
      "text/plain": [
       "<Figure size 432x288 with 2 Axes>"
      ]
     },
     "metadata": {},
     "output_type": "display_data"
    }
   ],
   "source": [
    "f, (ax1, ax2) = plt.subplots(1, 2)\n",
    "visualize_prob(\n",
    "    model=logregpcacv,\n",
    "    x=x_train_pca[:,:n_components_optimal],\n",
    "    y=y_train,\n",
    "    ax=ax1\n",
    ")\n",
    "ax1.set_title(\"TRAIN\")\n",
    "\n",
    "visualize_prob(\n",
    "    model=logregpcacv,\n",
    "    x=x_test_pca[:,:n_components_optimal],\n",
    "    y=y_test,\n",
    "    ax=ax2\n",
    ")\n",
    "ax2.set_title(\"TEST\")\n",
    "plt.tight_layout()"
   ]
  },
  {
   "cell_type": "markdown",
   "metadata": {},
   "source": [
    "**Classification accuracy on testset clearly improves using PCA(0.951) as compared with multiple logistic regression(0.926) in part c.**\n",
    "\n",
    "**Few AML cases will be classified as AML using PCA and logit model with Kfold in test set.\n",
    "In training set, our model classifies both classes accurately.**\n",
    "\n",
    "**Over all PCA performed better than previous models and we retained predictive power of our model by only using only significant features.**"
   ]
  }
 ],
 "metadata": {
  "anaconda-cloud": {},
  "kernelspec": {
   "display_name": "Python 3",
   "language": "python",
   "name": "python3"
  },
  "language_info": {
   "codemirror_mode": {
    "name": "ipython",
    "version": 3
   },
   "file_extension": ".py",
   "mimetype": "text/x-python",
   "name": "python",
   "nbconvert_exporter": "python",
   "pygments_lexer": "ipython3",
   "version": "3.5.2"
  }
 },
 "nbformat": 4,
 "nbformat_minor": 1
}

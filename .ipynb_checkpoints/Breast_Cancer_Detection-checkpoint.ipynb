{
 "cells": [
  {
   "cell_type": "markdown",
   "metadata": {},
   "source": [
    "# Automated Breast Cancer Detection\n",
    "\n",
    "In this module, we will consider the problem of early breast cancer detection from X-ray images. Specifically, given a candidate region of interest (ROI) from an X-ray image of a patient's breast, the goal is to predict if the region corresponds to a malignant tumor (label 1) or is normal (label 0). The training and test data sets for this problem is provided in the file `hw6_dataset.csv`(a 200 MB file, can be found at https://drive.google.com/file/d/0BwQPB22VsM0mY1MySkIxMXBjX1k/view?usp=sharing). Each row in these files corresponds to a ROI in a patient's X-ray, with columns 1-117 containing features computed using standard image processing algorithms. The last column contains the class label, and is based on a radiologist's opinion or a biopsy. This data was obtained from the KDD Cup 2008 challenge.\n",
    "\n",
    "The data set contain a total of 69,098 candidate ROIs, of which only 409 are malignant, while the remaining are all normal. \n",
    "\n",
    "*Note*: be careful of reading/treating column names and row names in this data set."
   ]
  },
  {
   "cell_type": "markdown",
   "metadata": {},
   "source": [
    "## Reg-Logistic Regression, ROC, and Data Imputation"
   ]
  },
  {
   "cell_type": "code",
   "execution_count": null,
   "metadata": {},
   "outputs": [],
   "source": [
    "# defining border of dataframe tables\n",
    "%%HTML\n",
    "<style type=\"text/css\">\n",
    "table.dataframe td, table.dataframe th {\n",
    "    border: 1px  black solid !important;\n",
    "  color: black !important;\n",
    "}"
   ]
  },
  {
   "cell_type": "markdown",
   "metadata": {},
   "source": [
    "Import libraries:"
   ]
  },
  {
   "cell_type": "code",
   "execution_count": 2,
   "metadata": {},
   "outputs": [],
   "source": [
    "import numpy as np\n",
    "import pandas as pd\n",
    "import matplotlib\n",
    "import matplotlib.pyplot as plt\n",
    "from sklearn.linear_model import LogisticRegressionCV\n",
    "from sklearn.linear_model import LinearRegression\n",
    "import sklearn.metrics as metrics\n",
    "from sklearn.preprocessing import PolynomialFeatures\n",
    "from sklearn.discriminant_analysis import LinearDiscriminantAnalysis\n",
    "from sklearn.discriminant_analysis import QuadraticDiscriminantAnalysis\n",
    "from sklearn.neighbors import KNeighborsClassifier\n",
    "from sklearn.tree import DecisionTreeClassifier\n",
    "from sklearn.model_selection import cross_val_score\n",
    "from sklearn.metrics import accuracy_score\n",
    "from sklearn.model_selection import train_test_split\n",
    "from sklearn.tree import export_graphviz\n",
    "from IPython.display import Image\n",
    "from IPython.display import display\n",
    "%matplotlib inline"
   ]
  },
  {
   "cell_type": "markdown",
   "metadata": {},
   "source": [
    "## Question 1: Beyond Classification Accuracy\n",
    "\n",
    "\n",
    "0.  Split the data set into a training set and a testing set.  The training set should be 75% of the original data set, and the testing set 25%.  Use `np.random.seed(9001)`.\n",
    "\n",
    "1. Fit a logistic regression classifier to the training set and report the  accuracy of the classifier on the test set. You should use $L_2$ regularization in logistic regression, with the regularization parameter tuned using cross-validation. \n",
    "    1. How does the fitted model compare with a classifier that predicts 'normal' (label 0) on all patients? \n",
    "    2. Do you think the difference in the classification accuracies are large enough to declare logistic regression as a better classifier than the all 0's classifier? Why or why not?\n",
    "    \n",
    "For applications with imbalanced class labels, in this case when there are many more healthy subjects ($Y=0$) than those with cancer ($Y=1$), the classification accuracy may not be the best metric to evaluate a classifier's performance. As an alternative, we could analyze the confusion table for the classifier. \n",
    "\n",
    "<ol start=\"3\">\n",
    "<li> Compute the confusion table for both the fitted classifier and the classifier that predicts all 0's.</li>\n",
    "<li> Using the entries of the confusion table compute the *true positive rate* and the *true negative rate* for the two classifiers. Explain what these evaluation metrics mean for the specific task of cancer detection. Based on the observed metrics, comment on whether the fitted model is better than the all 0's classifier.</li>\n",
    "<li> What is the *false positive rate* of the fitted classifier, and how is it related to its true positive and true negative rate? Why is a classifier with high false positive rate undesirable for a cancer detection task?</li>\n",
    "</ol>\n",
    "*Hint:* You may use the `metrics.confusion_matrix` function to compute the confusion matrix for a classification model."
   ]
  },
  {
   "cell_type": "code",
   "execution_count": 4,
   "metadata": {},
   "outputs": [
    {
     "name": "stdout",
     "output_type": "stream",
     "text": [
      "75.26954860558345 24.730451394416544\n"
     ]
    }
   ],
   "source": [
    "np.random.seed(9001)\n",
    "df = pd.read_csv('/home/drogon/Desktop/9th/DS/hw3/hw6_dataset.csv', header=0, names=list(range(1,118)) + ['type'])\n",
    "msk = np.random.rand(len(df)) < 0.75\n",
    "df_train = df[msk]\n",
    "df_test = df[~msk]\n",
    "\n",
    "tl = df.shape[0]\n",
    "print((df_train.shape[0]/tl)*100,(df_test.shape[0]/tl)*100)"
   ]
  },
  {
   "cell_type": "markdown",
   "metadata": {},
   "source": [
    "**Q-2 Fit a logistic regression classifier to the training set and report the accuracy of the classifier on the test set. You should use L2L2 regularization in logistic regression, with the regularization parameter tuned using cross-validation.**"
   ]
  },
  {
   "cell_type": "code",
   "execution_count": 202,
   "metadata": {},
   "outputs": [],
   "source": [
    "x_train = df_train.drop(['type'], axis=1).values\n",
    "y_train = df_train['type'].values\n",
    "\n",
    "x_test = df_test.drop(['type'], axis=1).values\n",
    "y_test = df_test['type'].values"
   ]
  },
  {
   "cell_type": "code",
   "execution_count": 203,
   "metadata": {},
   "outputs": [
    {
     "data": {
      "text/plain": [
       "0.0    51704\n",
       "1.0      305\n",
       "Name: type, dtype: int64"
      ]
     },
     "execution_count": 203,
     "metadata": {},
     "output_type": "execute_result"
    }
   ],
   "source": [
    "df_train['type'].value_counts()"
   ]
  },
  {
   "cell_type": "code",
   "execution_count": 204,
   "metadata": {},
   "outputs": [
    {
     "name": "stdout",
     "output_type": "stream",
     "text": [
      "Train accuracy:  0.9955200061527812\n",
      "Test accuracy:  0.9952013108614233\n"
     ]
    }
   ],
   "source": [
    "lg = LogisticRegressionCV()\n",
    "lg.fit(x_train, y_train)\n",
    "\n",
    "pred_train = lg.predict(x_train)\n",
    "pred_test = lg.predict(x_test)\n",
    "\n",
    "print(\"Train accuracy: \", accuracy_score(y_train, pred_train))\n",
    "print(\"Test accuracy: \", accuracy_score(y_test, pred_test))"
   ]
  },
  {
   "cell_type": "code",
   "execution_count": 205,
   "metadata": {},
   "outputs": [
    {
     "name": "stdout",
     "output_type": "stream",
     "text": [
      "Train accuracy:  0.9941356303716664\n",
      "Test accuracy:  0.9939138576779026\n"
     ]
    }
   ],
   "source": [
    "print(\"Train accuracy: \", accuracy_score(y_train, [0 for y in y_train]))\n",
    "print(\"Test accuracy: \", accuracy_score(y_test, [0 for y in y_test]))"
   ]
  },
  {
   "cell_type": "markdown",
   "metadata": {},
   "source": [
    "**How does the fitted model compare with a classifier that predicts 'normal' (label 0) on all patients?**\n",
    "\n",
    "**Do you think the difference in the classification accuracies are large enough to declare logistic regression as a better classifier than the all 0's classifier? Why or why not?**"
   ]
  },
  {
   "cell_type": "markdown",
   "metadata": {},
   "source": [
    "**Answer: The logistic regression model performs better than the naive model. But the difference of accuracies are not large enough to declare logistic regression as a better classifier.**"
   ]
  },
  {
   "cell_type": "markdown",
   "metadata": {},
   "source": [
    "**Q-3 Compute the confusion table for both the fitted classifier and the classifier that predicts all 0's.**"
   ]
  },
  {
   "cell_type": "code",
   "execution_count": 206,
   "metadata": {},
   "outputs": [
    {
     "data": {
      "text/html": [
       "<div>\n",
       "<style scoped>\n",
       "    .dataframe tbody tr th:only-of-type {\n",
       "        vertical-align: middle;\n",
       "    }\n",
       "\n",
       "    .dataframe tbody tr th {\n",
       "        vertical-align: top;\n",
       "    }\n",
       "\n",
       "    .dataframe thead th {\n",
       "        text-align: right;\n",
       "    }\n",
       "</style>\n",
       "<table border=\"1\" class=\"dataframe\">\n",
       "  <thead>\n",
       "    <tr style=\"text-align: right;\">\n",
       "      <th></th>\n",
       "      <th>pred=0</th>\n",
       "      <th>pred=1</th>\n",
       "    </tr>\n",
       "  </thead>\n",
       "  <tbody>\n",
       "    <tr>\n",
       "      <th>y=0</th>\n",
       "      <td>16975</td>\n",
       "      <td>9</td>\n",
       "    </tr>\n",
       "    <tr>\n",
       "      <th>y=1</th>\n",
       "      <td>73</td>\n",
       "      <td>31</td>\n",
       "    </tr>\n",
       "  </tbody>\n",
       "</table>\n",
       "</div>"
      ],
      "text/plain": [
       "     pred=0  pred=1\n",
       "y=0   16975       9\n",
       "y=1      73      31"
      ]
     },
     "execution_count": 206,
     "metadata": {},
     "output_type": "execute_result"
    }
   ],
   "source": [
    "conf_mat = metrics.confusion_matrix(y_test, pred_test)\n",
    "conf_df = pd.DataFrame(conf_mat, columns = ['pred=0', 'pred=1'], index = ['y=0', 'y=1'])\n",
    "conf_df"
   ]
  },
  {
   "cell_type": "code",
   "execution_count": 207,
   "metadata": {},
   "outputs": [
    {
     "data": {
      "text/html": [
       "<div>\n",
       "<style scoped>\n",
       "    .dataframe tbody tr th:only-of-type {\n",
       "        vertical-align: middle;\n",
       "    }\n",
       "\n",
       "    .dataframe tbody tr th {\n",
       "        vertical-align: top;\n",
       "    }\n",
       "\n",
       "    .dataframe thead th {\n",
       "        text-align: right;\n",
       "    }\n",
       "</style>\n",
       "<table border=\"1\" class=\"dataframe\">\n",
       "  <thead>\n",
       "    <tr style=\"text-align: right;\">\n",
       "      <th></th>\n",
       "      <th>pred=0</th>\n",
       "      <th>pred=1</th>\n",
       "    </tr>\n",
       "  </thead>\n",
       "  <tbody>\n",
       "    <tr>\n",
       "      <th>y=0</th>\n",
       "      <td>16984</td>\n",
       "      <td>0</td>\n",
       "    </tr>\n",
       "    <tr>\n",
       "      <th>y=1</th>\n",
       "      <td>104</td>\n",
       "      <td>0</td>\n",
       "    </tr>\n",
       "  </tbody>\n",
       "</table>\n",
       "</div>"
      ],
      "text/plain": [
       "     pred=0  pred=1\n",
       "y=0   16984       0\n",
       "y=1     104       0"
      ]
     },
     "execution_count": 207,
     "metadata": {},
     "output_type": "execute_result"
    }
   ],
   "source": [
    "conf_mat_n = metrics.confusion_matrix(y_test, [0 for y in y_test])\n",
    "conf_df_n = pd.DataFrame(conf_mat_n, columns = ['pred=0', 'pred=1'], index = ['y=0', 'y=1'])\n",
    "conf_df_n"
   ]
  },
  {
   "cell_type": "markdown",
   "metadata": {},
   "source": [
    "**Q-4 Using the entries of the confusion table compute the *true positive rate* and the *true negative rate* for the two classifiers. Explain what these evaluation metrics mean for the specific task of cancer detection. Based on the observed metrics, comment on whether the fitted model is better than the all 0's classifier**"
   ]
  },
  {
   "cell_type": "code",
   "execution_count": 208,
   "metadata": {},
   "outputs": [
    {
     "name": "stdout",
     "output_type": "stream",
     "text": [
      "True Positive Rate for Fitted:  0.2980769230769231\n",
      "True Negative Rate for Fitted:  0.9994700894959963\n"
     ]
    }
   ],
   "source": [
    "print(\"True Positive Rate for Fitted: \", conf_mat[1][1]/(conf_mat[1][1]+conf_mat[1][0]))\n",
    "print(\"True Negative Rate for Fitted: \", conf_mat[0][0]/(conf_mat[0][0]+conf_mat[0][1]))"
   ]
  },
  {
   "cell_type": "code",
   "execution_count": 209,
   "metadata": {},
   "outputs": [
    {
     "name": "stdout",
     "output_type": "stream",
     "text": [
      "True Positive Rate for Naive:  0.0\n",
      "True Negative Rate for Naive:  1.0\n"
     ]
    }
   ],
   "source": [
    "print(\"True Positive Rate for Naive: \", conf_mat_n[1][1]/(conf_mat_n[1][1]+conf_mat_n[1][0]))\n",
    "print(\"True Negative Rate for Naive: \", (conf_mat_n[0][0]/(conf_mat_n[0][0]+conf_mat_n[0][1])))"
   ]
  },
  {
   "cell_type": "markdown",
   "metadata": {},
   "source": [
    "**In the naive classifier, we won't get any false positives but false negatives increases which means there will be patients who have cancer but our model says that they don't have cancer. which is very bad.**"
   ]
  },
  {
   "cell_type": "markdown",
   "metadata": {},
   "source": [
    "**Q-5 What is the *false positive rate* of the fitted classifier, and how is it related to its true positive and true negative rate? Why is a classifier with high false positive rate undesirable for a cancer detection task?**"
   ]
  },
  {
   "cell_type": "code",
   "execution_count": 210,
   "metadata": {},
   "outputs": [
    {
     "name": "stdout",
     "output_type": "stream",
     "text": [
      "False Positive Rate for Fitted:  0.0005299105040037683\n"
     ]
    }
   ],
   "source": [
    "print(\"False Positive Rate for Fitted: \", float(conf_mat[0][1])/(conf_mat[0][1] + conf_mat[0][0]))"
   ]
  },
  {
   "cell_type": "markdown",
   "metadata": {},
   "source": [
    "**The FPR is telling you the proportion of all the people who do not have cancer who will be identified as having cancer.**\n"
   ]
  },
  {
   "cell_type": "markdown",
   "metadata": {},
   "source": [
    "## Question 2: ROC Analysis\n",
    "\n",
    "Another powerful diagnostic tool for class-imbalanced classification tasks is the Receiver Operating Characteristic (ROC) curve. Notice that the default logistic regression classifier in `sklearn` classifies a data point by thresholding the predicted class probability $\\hat{P}(Y=1)$ at 0.5. By using a different threshold, we can adjust the trade-off between the true positive rate (TPR) and false positive rate (FPR) of the classifier. The ROC curve allows us to visualize this trade-off across all possible thresholds.\n",
    "\n",
    "\n",
    "1. Display the ROC curve for the fitted classifier on the *test set*. In the same plot, also display the ROC curve for the all 0's classifier. How do the two curves compare?\n",
    "\n",
    "*Hint:* You may use the `metrics.roc_curve` function to compute the ROC curve for a classification model and the `metrics.roc_auc_score` function to compute the AUC for the model."
   ]
  },
  {
   "cell_type": "code",
   "execution_count": 211,
   "metadata": {},
   "outputs": [],
   "source": [
    "preds = lg.predict_proba(x_test)[:,1]\n",
    "\n",
    "#logistic regression\n",
    "fpr, tpr, thresholds = metrics.roc_curve(y_test, preds)\n",
    "roc_auc = metrics.auc(fpr, tpr)\n",
    "\n",
    "#Naive classifier\n",
    "fpr2, tpr2, thresholds2 = metrics.roc_curve(y_test, [0 for y in y_test])\n",
    "roc_auc2 = metrics.auc(fpr2, tpr2)"
   ]
  },
  {
   "cell_type": "code",
   "execution_count": 212,
   "metadata": {},
   "outputs": [
    {
     "data": {
      "image/png": "[encoded data removed]",
      "text/plain": [
       "<Figure size 1440x720 with 1 Axes>"
      ]
     },
     "metadata": {},
     "output_type": "display_data"
    }
   ],
   "source": [
    "\n",
    "plt.figure(figsize=(20,10))\n",
    "lw = 2\n",
    "plt.plot(fpr, tpr, color='black',\n",
    "         lw=lw, label='ROC curve (area = %0.2f) LogReg' % roc_auc)\n",
    "plt.plot([0], [0], marker='o', markersize=10, lw = 0, color=\"red\", label ='ROC curve (area = 0) Naive Classifier')\n",
    "plt.plot([0, 1], [0, 1], color='orange', lw=lw, linestyle='--')\n",
    "plt.xlim([-0.02, 1.0])\n",
    "plt.ylim([-0.02, 1.05])\n",
    "plt.xlabel('FPR')\n",
    "plt.ylabel('TPR')\n",
    "plt.title('Receiver operating characteristic')\n",
    "plt.legend(loc=\"lower right\", prop={'size':15})\n",
    "plt.show()"
   ]
  },
  {
   "cell_type": "markdown",
   "metadata": {},
   "source": [
    "Q-2.  Compute the highest TPR that can be achieved by the classifier at each of the following FPR's, and the thresholds at which they are achieved. Based on your results, comment on how the threshold influences a classifier's FPR.\n",
    "    - FPR = 0\n",
    "    - FPR = 0.1\n",
    "    - FPR = 0.5\n",
    "    - FPR = 0.9\n",
    "\n",
    "- Suppose a clinician told you that diagnosing a cancer patient as normal is *twice* as critical an error as diagnosing a normal patient as having cancer. Based on this information, what threshold would you recommend the clinician to use? What is the TPR and FPR of the classifier at this threshold?"
   ]
  },
  {
   "cell_type": "code",
   "execution_count": 213,
   "metadata": {},
   "outputs": [
    {
     "name": "stdout",
     "output_type": "stream",
     "text": [
      "0.0 1.9998799011320971\n",
      "0.8076923076923077 0.005413633466027809\n",
      "0.9519230769230769 0.0001270933069976431\n",
      "0.9903846153846154 4.2135834225094665e-11\n"
     ]
    }
   ],
   "source": [
    "print(tpr[np.min([i for i, x in enumerate(fpr) if x>=0])], thresholds[np.min([i for i, x in enumerate(fpr) if x>=0])])\n",
    "print(tpr[np.min([i for i, x in enumerate(fpr) if x>=0.1])], thresholds[np.min([i for i, x in enumerate(fpr) if x>=0.1])])\n",
    "print(tpr[np.min([i for i, x in enumerate(fpr) if x>=0.5])], thresholds[np.min([i for i, x in enumerate(fpr) if x>=0.5])])\n",
    "print(tpr[np.min([i for i, x in enumerate(fpr) if x>=0.9])], thresholds[np.min([i for i, x in enumerate(fpr) if x>=0.9])])"
   ]
  },
  {
   "cell_type": "code",
   "execution_count": 215,
   "metadata": {},
   "outputs": [
    {
     "name": "stdout",
     "output_type": "stream",
     "text": [
      "1\n"
     ]
    }
   ],
   "source": [
    "metric  = [2*tpr[i]+(1-fpr[i]) for i in range(len(fpr))]\n",
    "print(np.argmin(new_metric))\n",
    "t = thresholds[np.argmin(metric)]"
   ]
  },
  {
   "cell_type": "code",
   "execution_count": 216,
   "metadata": {},
   "outputs": [
    {
     "name": "stdout",
     "output_type": "stream",
     "text": [
      "TPR:  0.0\n",
      "FPR:  5.8878944889307586e-05\n"
     ]
    }
   ],
   "source": [
    "print('TPR: ', tpr[1])\n",
    "print('FPR: ', fpr[1])"
   ]
  },
  {
   "cell_type": "markdown",
   "metadata": {},
   "source": [
    "- Compute the area under the ROC curve (AUC) for both the fitted classifier and the all 0's classifier. How does the difference in the AUCs of the two classifiers compare with the difference between their classification accuracies in Question 1, Part 2(A)? "
   ]
  },
  {
   "cell_type": "code",
   "execution_count": 217,
   "metadata": {},
   "outputs": [
    {
     "name": "stdout",
     "output_type": "stream",
     "text": [
      "ROC for logistic regression classifier:  0.9212624325156707\n",
      "ROC for naive classifier:  0.5\n"
     ]
    }
   ],
   "source": [
    "print('ROC for logistic regression classifier: ', roc_auc)\n",
    "print('ROC for naive classifier: ', roc_auc2)"
   ]
  },
  {
   "cell_type": "markdown",
   "metadata": {},
   "source": [
    "**In terms of accuracy logistic regression (0.9952) and naive classifier (0.9939) were not so different, so we used ROC AUC, which is a more sophisticated evaluation method which uses TPR and FPR to determine model's effectiveness. ROC yield the following values.**\n",
    "\n",
    "**ROC for logistic regression classifier:  0.9212624325156707**\n",
    "\n",
    "**ROC for naive classifier:  0.5**\n",
    "\n",
    "**The difference between both classifiers clearly explains the effectiveness of Receiver operating characteristic(ROC).**\n",
    "\n"
   ]
  },
  {
   "cell_type": "markdown",
   "metadata": {
    "collapsed": true
   },
   "source": [
    "## Question 3: Missing data\n",
    "\n",
    "In this problem you are given a different data set, `hw6_dataset_missing.csv`, that is  similar to the one you used above (same column definitions and same conditions), however this data set contains missing values. \n",
    "\n",
    "*Note*: be careful of reading/treating column names and row names in this data set as well, it *may* be different than the first data set.\n",
    "\n",
    "\n",
    "1. Remove all observations that contain and missing values, split the dataset into a 75-25 train-test split, and fit the regularized logistic regression as in Question 1 (use `LogisticRegressionCV` again to retune).  Report the overall classification rate and TPR in the test set."
   ]
  },
  {
   "cell_type": "code",
   "execution_count": 218,
   "metadata": {},
   "outputs": [
    {
     "name": "stderr",
     "output_type": "stream",
     "text": [
      "/usr/local/lib/python3.5/dist-packages/sklearn/model_selection/_split.py:605: Warning: The least populated class in y has only 1 members, which is too few. The minimum number of members in any class cannot be less than n_splits=3.\n",
      "  % (min_groups, self.n_splits)), Warning)\n"
     ]
    },
    {
     "name": "stdout",
     "output_type": "stream",
     "text": [
      "Train accuracy:  0.9990740740740741\n",
      "Test accuracy:  0.9943820224719101\n",
      "---------------------------------------------\n",
      "True Positive Rate:  0.0\n"
     ]
    }
   ],
   "source": [
    "df_missing = pd.read_csv('HW6_dataset_missing.csv')\n",
    "df1 = df_missing.copy()\n",
    "df1.dropna(inplace=True)\n",
    "np.random.seed(9001)\n",
    "msk = np.random.rand(len(df1)) < 0.75\n",
    "data_train = df1[msk]\n",
    "data_test = df1[~msk]\n",
    "\n",
    "x_train = data_train.drop(['type'], axis=1).values\n",
    "y_train = data_train['type'].values\n",
    "x_test = data_test.drop(['type'], axis=1).values\n",
    "y_test = data_test['type'].values\n",
    "\n",
    "lg = LogisticRegressionCV()\n",
    "lg.fit(x_train, y_train)\n",
    "\n",
    "pred_train = lg.predict(x_train)\n",
    "pred_test = lg.predict(x_test)\n",
    "\n",
    "print(\"Train accuracy: \", accuracy_score(y_train, pred_train))\n",
    "print(\"Test accuracy: \", accuracy_score(y_test, pred_test))\n",
    "print('---------------------------------------------')\n",
    "\n",
    "\n",
    "conf_mat = metrics.confusion_matrix(y_test, pred_test)\n",
    "conf_df = pd.DataFrame(conf_mat, columns = ['pred=0', 'pred=1'], index = ['y=0', 'y=1'])\n",
    "\n",
    "print(\"True Positive Rate: \", float(conf_mat[1][1])/(conf_mat[1][1]+ conf_mat[1][0]))"
   ]
  },
  {
   "cell_type": "markdown",
   "metadata": {},
   "source": [
    "Q-2. Restart with a fresh copy of the data in `hw6_dataset_missing.csv` and impute the missing data via mean imputation.  Split the data 75-25 and fit the regularized logistic regression model.  Report the overall classification rate and TPR in the test set. "
   ]
  },
  {
   "cell_type": "code",
   "execution_count": 219,
   "metadata": {},
   "outputs": [
    {
     "name": "stdout",
     "output_type": "stream",
     "text": [
      "Train accuracy:  0.9947519083969466\n",
      "Test accuracy:  0.9951100244498777\n",
      "---------------------------------------------\n",
      "True Positive Rate:  0.0967741935483871\n"
     ]
    }
   ],
   "source": [
    "from sklearn.preprocessing import Imputer\n",
    "\n",
    "df2 = df_missing.copy()\n",
    "values = df2.values\n",
    "imputer = Imputer(strategy='mean')\n",
    "df2_missing = imputer.fit_transform(df2)\n",
    "msk = np.random.rand(len(df2)) < 0.75\n",
    "data_train2 = df2_missing[msk]\n",
    "data_test2 = df2_missing[~msk]\n",
    "\n",
    "x_train2 = data_train2[:, 0:-1]\n",
    "y_train2 = data_train2[:,-1]\n",
    "x_test2 = data_test2[:, 0:-1]\n",
    "y_test2 = data_test2[:,-1]\n",
    "\n",
    "lg = LogisticRegressionCV()\n",
    "lg.fit(x_train2, y_train2)\n",
    "\n",
    "pred_train = lg.predict(x_train2)\n",
    "pred_test = lg.predict(x_test2)\n",
    "\n",
    "print(\"Train accuracy: \", accuracy_score(y_train2, pred_train))\n",
    "print(\"Test accuracy: \", accuracy_score(y_test2, pred_test))\n",
    "print('---------------------------------------------')\n",
    "\n",
    "conf_mat_2 = metrics.confusion_matrix(y_test2, pred_test)\n",
    "conf_df_2 = pd.DataFrame(conf_mat_2, columns = ['pred=0', 'pred=1'], index = ['y=0', 'y=1'])\n",
    "\n",
    "print(\"True Positive Rate: \", float(conf_mat_2[1][1])/(conf_mat_2[1][1]+ conf_mat_2[1][0]))"
   ]
  },
  {
   "cell_type": "markdown",
   "metadata": {},
   "source": [
    "Q-3. Again restart with a fresh copy of the data in `hw6_dataset_missing.csv` and impute the missing data via a model-based imputation method. Once again split the data 75-25 and fit the regularized logistic regression model.  Report the overall classification rate and TPR in the test set.  "
   ]
  },
  {
   "cell_type": "code",
   "execution_count": 220,
   "metadata": {},
   "outputs": [
    {
     "name": "stdout",
     "output_type": "stream",
     "text": [
      "Train accuracy:  0.9944145965210915\n",
      "Test accuracy:  0.9961290322580645\n",
      "---------------------------------------------\n",
      "True Positive Rate:  0.25806451612903225\n"
     ]
    }
   ],
   "source": [
    "df3 = df_missing.copy()\n",
    "cols_full = []\n",
    "cols_missing = []\n",
    "\n",
    "for i in range(df3.shape[1] - 1):\n",
    "    if sum(df3.iloc[:, i].isnull()) > 0:\n",
    "        cols_missing.append(i)\n",
    "    else:\n",
    "        cols_full.append(i)\n",
    "\n",
    "full_data_x = df3.iloc[:, cols_full]\n",
    "full_data_y = df3['type']\n",
    "\n",
    "for i in cols_missing:\n",
    "\n",
    "    #rows where column i need to be imputed\n",
    "    pred_x = full_data_x[df3.iloc[:,i].isnull()]\n",
    "\n",
    "    #rows can be used for prediction\n",
    "    reg_x = full_data_x[~df3.iloc[:,i].isnull()]\n",
    "    reg_y = full_data_y[~df3.iloc[:,i].isnull()]\n",
    "    \n",
    "    #Linear regression model based on full columns\n",
    "    regress = LinearRegression().fit(reg_x, reg_y)\n",
    "    reg_y_hat = regress.predict(reg_x)\n",
    "    y_hat = regress.predict(pred_x)\n",
    "    y_hat_noise = y_hat + np.random.normal(loc=0, scale = np.sqrt(metrics.mean_squared_error(reg_y, reg_y_hat)), size = y_hat.shape[0])\n",
    "    \n",
    "    missing_series = pd.Series(data=y_hat_noise, index=df3.iloc[:,i][df3.iloc[:,i].isnull()].index)\n",
    "    df3.iloc[:,i] = df3.iloc[:,i].fillna(missing_series)\n",
    "\n",
    "msk = np.random.rand(len(df3)) < 0.75\n",
    "data_train3 = df3[msk]\n",
    "data_test3 = df3[~msk]\n",
    "\n",
    "x_train3 = data_train3.drop(['type'], axis=1).values\n",
    "y_train3 = data_train3['type'].values\n",
    "x_test3 = data_test3.drop(['type'], axis=1).values\n",
    "y_test3 = data_test3['type'].values\n",
    "\n",
    "logregcv = LogisticRegressionCV()\n",
    "logregcv.fit(x_train3, y_train3)\n",
    "y_hat_train3 = logregcv.predict(x_train3)\n",
    "y_hat_test3 = logregcv.predict(x_test3)\n",
    "\n",
    "print(\"Train accuracy: \", accuracy_score(y_train3, y_hat_train3))\n",
    "print(\"Test accuracy: \", accuracy_score(y_test3, y_hat_test3))\n",
    "print('---------------------------------------------')\n",
    "\n",
    "conf_mat_3 = metrics.confusion_matrix(y_test3, y_hat_test3)\n",
    "conf_df_3 = pd.DataFrame(conf_mat_3, columns = ['pred=0', 'pred=1'], index = ['y=0', 'y=1'])\n",
    "\n",
    "print(\"True Positive Rate: \", float(conf_mat_3[1][1])/(conf_mat_3[1][1]+ conf_mat_3[1][0]))"
   ]
  },
  {
   "cell_type": "markdown",
   "metadata": {},
   "source": [
    "Q-4. Compare the results in the 3 previous parts of this problem.  Prepare a paragraph (5-6 sentences) discussing the results, the computational complexity of the methods, and conjecture and explain why you get the results that you see.\n"
   ]
  },
  {
   "cell_type": "markdown",
   "metadata": {},
   "source": [
    "**In first problem in which we dropped all missing values we got TPR = 0**\n",
    "\n",
    "**In second problem we imputed missing values with mean of that column and got TPR = 0.096**\n",
    "\n",
    "**Finally in the third method we imputed missing values with linear regression and got TPR = 0.258**\n",
    "\n",
    "**As you can see that Imputation by Linear regression yielded best True positive rate. \n",
    "However Accuracy score of the test set on all 3 methods yielded more or less similar results which proves that accuracy measure in evaluation is not effective when we are dealing with imbalanced class problem.**\n",
    "\n",
    "**Dropping all NAs is the least computationally complex model, whereas linear regression model is the most computationally complex model because we need to fit a model for every null value against the mean method which just replaces the missing value with the mean of the column**"
   ]
  }
 ],
 "metadata": {
  "anaconda-cloud": {},
  "kernelspec": {
   "display_name": "Python 3",
   "language": "python",
   "name": "python3"
  },
  "language_info": {
   "codemirror_mode": {
    "name": "ipython",
    "version": 3
   },
   "file_extension": ".py",
   "mimetype": "text/x-python",
   "name": "python",
   "nbconvert_exporter": "python",
   "pygments_lexer": "ipython3",
   "version": "3.5.2"
  }
 },
 "nbformat": 4,
 "nbformat_minor": 1
}
